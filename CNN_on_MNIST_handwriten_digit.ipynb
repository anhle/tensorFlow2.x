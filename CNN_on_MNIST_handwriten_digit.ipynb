{
  "nbformat": 4,
  "nbformat_minor": 0,
  "metadata": {
    "colab": {
      "name": "CNN_on_MNIST_handwriten_digit.ipynb",
      "version": "0.3.2",
      "provenance": [],
      "include_colab_link": true
    },
    "kernelspec": {
      "name": "python3",
      "display_name": "Python 3"
    },
    "accelerator": "GPU"
  },
  "cells": [
    {
      "cell_type": "markdown",
      "metadata": {
        "id": "view-in-github",
        "colab_type": "text"
      },
      "source": [
        "<a href=\"https://colab.research.google.com/github/anhle/tensorFlow2.x/blob/master/CNN_on_MNIST_handwriten_digit.ipynb\" target=\"_parent\"><img src=\"https://colab.research.google.com/assets/colab-badge.svg\" alt=\"Open In Colab\"/></a>"
      ]
    },
    {
      "metadata": {
        "id": "cCYGS-O9g160",
        "colab_type": "text"
      },
      "cell_type": "markdown",
      "source": [
        "# Build a convolutional neural network with TensorFlow v2\n",
        "We build CNN using a low-level approach to better understand all mechanics behind building convolutional neural networks and the training process.\n",
        "\n",
        "CNN Overview\n",
        "\n",
        "![alt text](https://camo.githubusercontent.com/afc8cecd033ab300799ceb2bf3b593efa3bda2b7/687474703a2f2f706572736f6e616c2e69652e6375686b2e6564752e686b2f7e63636c6f792f70726f6a6563745f7461726765745f636f64652f696d616765732f666967332e706e67)\n",
        "\n",
        "MNIST Dataset Overview\n",
        "This example is using MNIST handwritten digits. The dataset contains 60,000 examples for training and 10,000 examples for testing. The digits have been size-normalized and centered in a fixed-size image (28x28 pixels) with values from 0 to 255.\n",
        "\n",
        "In this example, each image will be converted to float32 and normalized to [0, 1].\n",
        "\n",
        "MNIST Dataset"
      ]
    },
    {
      "metadata": {
        "id": "b3-rzcr7gcGr",
        "colab_type": "code",
        "colab": {}
      },
      "cell_type": "code",
      "source": [
        "from __future__ import absolute_import, division, print_function, unicode_literals\n",
        "\n",
        "# Import TensorFlow\n",
        "!pip install -q tensorflow==2.0.0-alpha0\n",
        "import tensorflow as tf\n",
        "import tensorflow_datasets as tfds\n",
        "from   tensorflow.python.ops import summary_ops_v2\n",
        "from   tensorflow import keras\n",
        "from tensorflow.keras import Model, datasets, layers,optimizers\n",
        "from tensorflow.keras.layers import Dense, Flatten, Conv2D,MaxPool2D,Dropout\n",
        "\n",
        "# Helper libraries\n",
        "import numpy as np\n",
        "import matplotlib.pyplot as plt\n",
        "import os\n",
        "import  time\n",
        "\n",
        "print(tf.__version__)"
      ],
      "execution_count": 0,
      "outputs": []
    },
    {
      "metadata": {
        "id": "wsepFuYsoCvu",
        "colab_type": "text"
      },
      "cell_type": "markdown",
      "source": [
        "Let's start by loading MNIST from keras.datasets and preprocessing to get rows of normalized 784-dimensional vectors.\n",
        "\n"
      ]
    },
    {
      "metadata": {
        "id": "6l5SI1J9qNqE",
        "colab_type": "code",
        "colab": {}
      },
      "cell_type": "code",
      "source": [
        "(x_train, y_train), (x_test, y_test) = datasets.mnist.load_data()\n",
        "\n",
        "# Normalize images value from [0, 255] to [0, 1].\n",
        "x_train, x_test = x_train / 255.0, x_test / 255.0\n",
        "\n",
        "# Use tf.data API to shuffle and batch data.\n",
        "train_ds = tf.data.Dataset.from_tensor_slices((x_train, y_train)).shuffle(10000).batch(32)\n",
        "test_ds = tf.data.Dataset.from_tensor_slices((x_test, y_test)).batch(32)"
      ],
      "execution_count": 0,
      "outputs": []
    },
    {
      "metadata": {
        "id": "B6S-DYnCrMk6",
        "colab_type": "text"
      },
      "cell_type": "markdown",
      "source": [
        "Build the tf.keras model using the Keras model subclassing API:\n",
        "\n"
      ]
    },
    {
      "metadata": {
        "id": "dmD288bIrNya",
        "colab_type": "code",
        "colab": {}
      },
      "cell_type": "code",
      "source": [
        "class MyConvNet(Model):\n",
        "    # Set layers.\n",
        "    def __init__(self):\n",
        "        super(MyConvNet, self).__init__()\n",
        "        # Convolution Layer with 32 filters and a kernel size of 5.\n",
        "        self.conv1 = Conv2D(32, kernel_size=5, activation='relu')\n",
        "        # Max Pooling (down-sampling) with kernel size of 2 and strides of 2. \n",
        "        self.maxpool1 = MaxPool2D(2, strides=2)\n",
        "\n",
        "        # Convolution Layer with 64 filters and a kernel size of 3.\n",
        "        self.conv2 = Conv2D(64, kernel_size=3, activation='relu')\n",
        "        # Max Pooling (down-sampling) with kernel size of 2 and strides of 2. \n",
        "        self.maxpool2 = MaxPool2D(2, strides=2)\n",
        "\n",
        "        # Flatten the data to a 1-D vector for the fully connected layer.\n",
        "        self.flatten = Flatten()\n",
        "\n",
        "        # Fully connected layer.\n",
        "        self.fc1 = Dense(1024)\n",
        "        # Apply Dropout (if is_training is False, dropout is not applied).\n",
        "        self.dropout = Dropout(rate=0.5)\n",
        "\n",
        "        # Output layer, class prediction (0-9 digits)\n",
        "        self.out = Dense(10)\n",
        "\n",
        "    # Set forward pass.\n",
        "    def call(self, x, is_training=False):\n",
        "        x = tf.reshape(x, [-1, 28, 28, 1])\n",
        "        x = self.conv1(x)\n",
        "        x = self.maxpool1(x)\n",
        "        x = self.conv2(x)\n",
        "        x = self.maxpool2(x)\n",
        "        x = self.flatten(x)\n",
        "        x = self.fc1(x)\n",
        "        x = self.dropout(x, training=is_training)\n",
        "        x = self.out(x)\n",
        "        if not is_training:\n",
        "            # tf cross entropy expect logits without softmax, so only\n",
        "            # apply softmax when not training.\n",
        "            x = tf.nn.softmax(x)\n",
        "        return x\n",
        "\n",
        "# Build neural network model.\n",
        "conv_net = MyConvNet()"
      ],
      "execution_count": 0,
      "outputs": []
    },
    {
      "metadata": {
        "id": "MBTOV6MFtHDo",
        "colab_type": "text"
      },
      "cell_type": "markdown",
      "source": [
        "Choose an optimizer and loss function for training:"
      ]
    },
    {
      "metadata": {
        "id": "vOQ9XP3vtHvU",
        "colab_type": "code",
        "colab": {}
      },
      "cell_type": "code",
      "source": [
        "# Training parameters.\n",
        "learning_rate = 0.001\n",
        "training_steps = 200\n",
        "batch_size = 128\n",
        "display_step = 10\n",
        "\n",
        "# Cross-Entropy Loss.\n",
        "# Note that this will apply 'softmax' to the logits.\n",
        "def cross_entropy_loss(x, y):\n",
        "    # Convert labels to int 64 for tf cross-entropy function.\n",
        "    y = tf.cast(y, tf.int64)\n",
        "    # Apply softmax to logits and compute cross-entropy.\n",
        "    loss = tf.nn.sparse_softmax_cross_entropy_with_logits(labels=y, logits=x)\n",
        "    # Average loss across the batch.\n",
        "    return tf.reduce_mean(loss)\n",
        "\n",
        "# Accuracy metric.\n",
        "def accuracy(y_pred, y_true):\n",
        "    # Predicted class is the index of highest score in prediction vector (i.e. argmax).\n",
        "    correct_prediction = tf.equal(tf.argmax(y_pred, 1), tf.cast(y_true, tf.int64))\n",
        "    return tf.reduce_mean(tf.cast(correct_prediction, tf.float32), axis=-1)\n",
        "\n",
        "# Stochastic gradient descent optimizer.\n",
        "optimizer = tf.optimizers.Adam(learning_rate)"
      ],
      "execution_count": 0,
      "outputs": []
    },
    {
      "metadata": {
        "id": "oC5SPSc05nrX",
        "colab_type": "code",
        "colab": {}
      },
      "cell_type": "code",
      "source": [
        "# Optimization process. \n",
        "@tf.function\n",
        "def run_optimization(x, y):\n",
        "    # Wrap computation inside a GradientTape for automatic differentiation.\n",
        "    with tf.GradientTape() as g:\n",
        "        # Forward pass.\n",
        "        pred = conv_net(x, is_training=True)\n",
        "        # Compute loss.\n",
        "        loss = cross_entropy_loss(pred, y)\n",
        "        \n",
        "    # Variables to update, i.e. trainable variables.\n",
        "    trainable_variables = conv_net.trainable_variables\n",
        "\n",
        "    # Compute gradients.\n",
        "    gradients = g.gradient(loss, trainable_variables)\n",
        "    \n",
        "    # Update W and b following gradients.\n",
        "    optimizer.apply_gradients(zip(gradients, trainable_variables))"
      ],
      "execution_count": 0,
      "outputs": []
    },
    {
      "metadata": {
        "id": "8P1J5oEI6Tut",
        "colab_type": "code",
        "colab": {}
      },
      "cell_type": "code",
      "source": [
        "# Run training for the given number of steps.\n",
        "for step, (batch_x, batch_y) in enumerate(train_ds.take(training_steps), 1):\n",
        "    # Run the optimization to update W and b values.\n",
        "    run_optimization(batch_x, batch_y)\n",
        "    \n",
        "    if step % display_step == 0:\n",
        "        pred = conv_net(batch_x)\n",
        "        loss = cross_entropy_loss(pred, batch_y)\n",
        "        acc = accuracy(pred, batch_y)\n",
        "        print(\"step: %i, loss: %f, accuracy: %f\" % (step, loss, acc))\n"
      ],
      "execution_count": 0,
      "outputs": []
    },
    {
      "metadata": {
        "id": "eFr7O8pL6sRx",
        "colab_type": "code",
        "colab": {}
      },
      "cell_type": "code",
      "source": [
        "# Test model on validation set.\n",
        "pred = conv_net(x_test)\n",
        "print(\"Test Accuracy: %f\" % accuracy(pred, y_test))"
      ],
      "execution_count": 0,
      "outputs": []
    },
    {
      "metadata": {
        "id": "SWNqJrOJ61Eo",
        "colab_type": "code",
        "colab": {}
      },
      "cell_type": "code",
      "source": [
        "# Predict 5 images from validation set.\n",
        "n_images = 5\n",
        "test_images = x_test[:n_images]\n",
        "predictions = conv_net(test_images)\n",
        "\n",
        "# Display image and model prediction.\n",
        "for i in range(n_images):\n",
        "    plt.imshow(np.reshape(test_images[i], [28, 28]), cmap='gray')\n",
        "    plt.show()\n",
        "    print(\"Model prediction: %i\" % np.argmax(predictions.numpy()[i]))"
      ],
      "execution_count": 0,
      "outputs": []
    }
  ]
}