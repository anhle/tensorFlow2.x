{
  "nbformat": 4,
  "nbformat_minor": 0,
  "metadata": {
    "colab": {
      "name": "Fashion_MNIST.ipynb",
      "version": "0.3.2",
      "provenance": [],
      "include_colab_link": true
    },
    "kernelspec": {
      "name": "python3",
      "display_name": "Python 3"
    },
    "accelerator": "GPU"
  },
  "cells": [
    {
      "cell_type": "markdown",
      "metadata": {
        "id": "view-in-github",
        "colab_type": "text"
      },
      "source": [
        "<a href=\"https://colab.research.google.com/github/anhle/tensorFlow2.x/blob/master/Fashion_MNIST.ipynb\" target=\"_parent\"><img src=\"https://colab.research.google.com/assets/colab-badge.svg\" alt=\"Open In Colab\"/></a>"
      ]
    },
    {
      "metadata": {
        "id": "JSTk3MhSybjj",
        "colab_type": "text"
      },
      "cell_type": "markdown",
      "source": [
        "# Fashion MNIST\n",
        "This guide uses the Fashion MNIST dataset which contains 70,000 grayscale images in 10 categories. The images show individual articles of clothing at low resolution (28 by 28 pixels). We will train a simple CNN model on the fashion MNIST dataset. "
      ]
    },
    {
      "metadata": {
        "id": "sBxDBvX2zQrc",
        "colab_type": "code",
        "colab": {
          "base_uri": "https://localhost:8080/",
          "height": 34
        },
        "outputId": "b11ef14a-ad6c-4214-d6b1-2af76121c903"
      },
      "cell_type": "code",
      "source": [
        "from __future__ import absolute_import, division, print_function, unicode_literals\n",
        "\n",
        "# Import TensorFlow\n",
        "!pip install -q tensorflow==2.0.0-alpha0\n",
        "import tensorflow as tf\n",
        "import tensorflow_datasets as tfds\n",
        "from   tensorflow.python.ops import summary_ops_v2\n",
        "from   tensorflow import keras\n",
        "from tensorflow.keras import Model, datasets, layers,optimizers\n",
        "from tensorflow.keras.layers import Dense, Flatten, Conv2D\n",
        "\n",
        "# Helper libraries\n",
        "import numpy as np\n",
        "import matplotlib.pyplot as plt\n",
        "import os\n",
        "import  time\n",
        "\n",
        "print(tf.__version__)"
      ],
      "execution_count": 32,
      "outputs": [
        {
          "output_type": "stream",
          "text": [
            "2.0.0-alpha0\n"
          ],
          "name": "stdout"
        }
      ]
    },
    {
      "metadata": {
        "id": "03qAhHZTzcAe",
        "colab_type": "text"
      },
      "cell_type": "markdown",
      "source": [
        "## Download the fashion mnist dataset\n",
        "You can access the Fashion MNIST directly from TensorFlow. Import and load the Fashion MNIST data directly from TensorFlow.\n",
        "Convert the samples from integers to floating-point numbers.\n",
        "\n",
        "The images are 28x28 NumPy arrays, with pixel values ranging from 0 to 255. The labels are an array of integers, ranging from 0 to 9. These correspond to the class of clothing the image represents. Each image is mapped to a single label. Since the class names are not included with the dataset, store them here to use later when plotting the images:\n",
        "\n",
        "class_names = ['T-shirt/top', 'Trouser', 'Pullover', 'Dress', 'Coat', 'Sandal', 'Shirt', 'Sneaker', 'Bag', 'Ankle boot']"
      ]
    },
    {
      "metadata": {
        "id": "2wd1mccNzePv",
        "colab_type": "code",
        "colab": {
          "base_uri": "https://localhost:8080/",
          "height": 50
        },
        "outputId": "6d809319-d808-4966-cbcc-40d9219ef790"
      },
      "cell_type": "code",
      "source": [
        "def prepare_mnist_features_and_labels(x, y):\n",
        "  x = tf.cast(x, tf.float32) / 255.0\n",
        "  y = tf.cast(y, tf.int64)\n",
        "  return x, y\n",
        "\n",
        "\n",
        "\n",
        "def mnist_dataset():\n",
        "\n",
        "  (x, y), (x_val, y_val) = datasets.fashion_mnist.load_data()\n",
        "  print('x/y shape:', x.shape, y.shape)\n",
        "  y = tf.one_hot(y, depth=10)\n",
        "  y_val = tf.one_hot(y_val, depth=10)\n",
        "\n",
        "  ds = tf.data.Dataset.from_tensor_slices((x, y))\n",
        "  ds = ds.map(prepare_mnist_features_and_labels)\n",
        "  ds = ds.shuffle(60000).batch(100)\n",
        "\n",
        "  ds_val = tf.data.Dataset.from_tensor_slices((x_val, y_val))\n",
        "  ds_val = ds_val.map(prepare_mnist_features_and_labels)\n",
        "  ds_val = ds_val.shuffle(10000).batch(100)\n",
        "\n",
        "  sample = next(iter(ds))\n",
        "  print('sample:', sample[0].shape, sample[1].shape)\n",
        "\n",
        "  return ds,ds_val\n",
        "\n",
        "train_ds,val_ds = mnist_dataset()"
      ],
      "execution_count": 25,
      "outputs": [
        {
          "output_type": "stream",
          "text": [
            "x/y shape: (60000, 28, 28) (60000,)\n",
            "sample: (100, 28, 28) (100, 10)\n"
          ],
          "name": "stdout"
        }
      ]
    },
    {
      "metadata": {
        "id": "AGZBYHnCE_cE",
        "colab_type": "text"
      },
      "cell_type": "markdown",
      "source": [
        "## Explore the data"
      ]
    },
    {
      "metadata": {
        "id": "C7DGe3HnFssW",
        "colab_type": "code",
        "colab": {}
      },
      "cell_type": "code",
      "source": [
        "class_names = ['T-shirt/top', 'Trouser', 'Pullover', 'Dress', 'Coat',\n",
        "               'Sandal', 'Shirt', 'Sneaker', 'Bag', 'Ankle boot']"
      ],
      "execution_count": 0,
      "outputs": []
    },
    {
      "metadata": {
        "id": "JiddLevQFKzS",
        "colab_type": "text"
      },
      "cell_type": "markdown",
      "source": [
        "## Preprocess the data\n",
        "The data must be preprocessed before training the network. If you inspect the first image in the training set, you will see that the pixel values fall in the range of 0 to 255:"
      ]
    },
    {
      "metadata": {
        "id": "MJRp3gZbHb94",
        "colab_type": "text"
      },
      "cell_type": "markdown",
      "source": [
        "## Build the model\n",
        "\n",
        "The first layer in this network, tf.keras.layers.Flatten, transforms the format of the images from a two-dimensional array (of 28 by 28 pixels) to a one-dimensional array (of 28 * 28 = 784 pixels). Think of this layer as unstacking rows of pixels in the image and lining them up. This layer has no parameters to learn; it only reformats the data.\n",
        "\n",
        "After the pixels are flattened, the network consists of a sequence of two tf.keras.layers.Dense layers. These are densely connected, or fully connected, neural layers. The first Dense layer has 128 nodes (or neurons). The second (and last) layer is a 10-node softmax layer that returns an array of 10 probability scores that sum to 1. Each node contains a score that indicates the probability that the current image belongs to one of the 10 classes."
      ]
    },
    {
      "metadata": {
        "id": "dVsYh4cJLzmz",
        "colab_type": "code",
        "colab": {}
      },
      "cell_type": "code",
      "source": [
        "class MyModel(keras.Model):\n",
        "\n",
        "    def __init__(self):\n",
        "        super(MyModel, self).__init__()\n",
        "\n",
        "        # self.model = keras.Sequential([\n",
        "        #     layers.Reshape(target_shape=(28 * 28,), input_shape=(28, 28)),\n",
        "        #     layers.Dense(128, activation='relu'),\n",
        "        #     layers.Dense(128, activation='relu'),\n",
        "        #     layers.Dense(10)])\n",
        "\n",
        "        self.layer1 = layers.Dense(128, activation=tf.nn.relu)\n",
        "        self.layer2 = layers.Dense(128, activation=tf.nn.relu)\n",
        "        self.layer3 = layers.Dense(10)\n",
        "\n",
        "    def call(self, x, training=False):\n",
        "\n",
        "        x = tf.reshape(x, [-1, 28*28])\n",
        "        x = self.layer1(x)\n",
        "        x = self.layer2(x)        \n",
        "        x = self.layer3(x)\n",
        "\n",
        "        return x\n",
        " \n",
        "\n",
        "model = MyModel()"
      ],
      "execution_count": 0,
      "outputs": []
    },
    {
      "metadata": {
        "id": "ZRsFXgseNbJW",
        "colab_type": "text"
      },
      "cell_type": "markdown",
      "source": [
        "## Compile the model\n",
        "Before the model is ready for training, it needs a few more settings. These are added during the model's compile step:\n",
        "\n",
        "* Loss function —This measures how accurate the model is during training. We want to minimize this function to \"steer\" the model in the right direction.\n",
        "* Optimizer —This is how the model is updated based on the data it sees and its loss function.\n",
        "* Metrics —Used to monitor the training and testing steps. The following example uses accuracy, the fraction of the images that are correctly classified."
      ]
    },
    {
      "metadata": {
        "id": "V1csHe_eNk6z",
        "colab_type": "code",
        "colab": {}
      },
      "cell_type": "code",
      "source": [
        "model.compile(optimizer=optimizers.Adam(1e-3),\n",
        "                  loss=tf.losses.CategoricalCrossentropy(from_logits=True),\n",
        "                  metrics=['accuracy'])"
      ],
      "execution_count": 0,
      "outputs": []
    },
    {
      "metadata": {
        "id": "3g8EN51YOQLW",
        "colab_type": "text"
      },
      "cell_type": "markdown",
      "source": [
        "## Train the model\n",
        "Training the neural network model requires the following steps:\n",
        "\n",
        "Feed the training data to the model. In this example, the training data is in the train_images and train_labels arrays.\n",
        "The model learns to associate images and labels.\n",
        "We ask the model to make predictions about a test set—in this example, the test_images array. We verify that the predictions match the labels from the test_labels array."
      ]
    },
    {
      "metadata": {
        "id": "qPS7cCpnOWVF",
        "colab_type": "code",
        "colab": {
          "base_uri": "https://localhost:8080/",
          "height": 1042
        },
        "outputId": "6c321f32-f853-4246-9c5d-0d27e4fc99c4"
      },
      "cell_type": "code",
      "source": [
        "model.fit(train_ds.repeat(), epochs=30, steps_per_epoch=500, verbose=1,\n",
        "              validation_data=val_ds.repeat(),\n",
        "              validation_steps=2)"
      ],
      "execution_count": 35,
      "outputs": [
        {
          "output_type": "stream",
          "text": [
            "Epoch 1/30\n",
            "500/500 [==============================] - 4s 9ms/step - loss: 0.5472 - accuracy: 0.7387 - val_loss: 0.3431 - val_accuracy: 0.8950\n",
            "Epoch 2/30\n",
            "500/500 [==============================] - 4s 8ms/step - loss: 0.3814 - accuracy: 0.8570 - val_loss: 0.3168 - val_accuracy: 0.8900\n",
            "Epoch 3/30\n",
            "500/500 [==============================] - 4s 9ms/step - loss: 0.3488 - accuracy: 0.8720 - val_loss: 0.3235 - val_accuracy: 0.9000\n",
            "Epoch 4/30\n",
            "500/500 [==============================] - 4s 8ms/step - loss: 0.3218 - accuracy: 0.8805 - val_loss: 0.3036 - val_accuracy: 0.8850\n",
            "Epoch 5/30\n",
            "500/500 [==============================] - 4s 7ms/step - loss: 0.3016 - accuracy: 0.8905 - val_loss: 0.3051 - val_accuracy: 0.8950\n",
            "Epoch 6/30\n",
            "500/500 [==============================] - 2s 5ms/step - loss: 0.2922 - accuracy: 0.8937 - val_loss: 0.2759 - val_accuracy: 0.8950\n",
            "Epoch 7/30\n",
            "500/500 [==============================] - 4s 7ms/step - loss: 0.2741 - accuracy: 0.9011 - val_loss: 0.3243 - val_accuracy: 0.8750\n",
            "Epoch 8/30\n",
            "500/500 [==============================] - 4s 7ms/step - loss: 0.2696 - accuracy: 0.8972 - val_loss: 0.3091 - val_accuracy: 0.8700\n",
            "Epoch 9/30\n",
            "500/500 [==============================] - 4s 7ms/step - loss: 0.2597 - accuracy: 0.9009 - val_loss: 0.2810 - val_accuracy: 0.9050\n",
            "Epoch 10/30\n",
            "500/500 [==============================] - 4s 7ms/step - loss: 0.2474 - accuracy: 0.9023 - val_loss: 0.2881 - val_accuracy: 0.9100\n",
            "Epoch 11/30\n",
            "500/500 [==============================] - 4s 7ms/step - loss: 0.2459 - accuracy: 0.9097 - val_loss: 0.2705 - val_accuracy: 0.9000\n",
            "Epoch 12/30\n",
            "500/500 [==============================] - 3s 6ms/step - loss: 0.2343 - accuracy: 0.9123 - val_loss: 0.2979 - val_accuracy: 0.9000\n",
            "Epoch 13/30\n",
            "500/500 [==============================] - 4s 8ms/step - loss: 0.2251 - accuracy: 0.9146 - val_loss: 0.2873 - val_accuracy: 0.9100\n",
            "Epoch 14/30\n",
            "500/500 [==============================] - 4s 8ms/step - loss: 0.2200 - accuracy: 0.9164 - val_loss: 0.2905 - val_accuracy: 0.9050\n",
            "Epoch 15/30\n",
            "500/500 [==============================] - 3s 7ms/step - loss: 0.2182 - accuracy: 0.9135 - val_loss: 0.2946 - val_accuracy: 0.9000\n",
            "Epoch 16/30\n",
            "500/500 [==============================] - 4s 7ms/step - loss: 0.2037 - accuracy: 0.9223 - val_loss: 0.3449 - val_accuracy: 0.9050\n",
            "Epoch 17/30\n",
            "500/500 [==============================] - 4s 7ms/step - loss: 0.2042 - accuracy: 0.9241 - val_loss: 0.2845 - val_accuracy: 0.8950\n",
            "Epoch 18/30\n",
            "500/500 [==============================] - 2s 5ms/step - loss: 0.1959 - accuracy: 0.9258 - val_loss: 0.2672 - val_accuracy: 0.9000\n",
            "Epoch 19/30\n",
            "500/500 [==============================] - 3s 7ms/step - loss: 0.1889 - accuracy: 0.9305 - val_loss: 0.2607 - val_accuracy: 0.9250\n",
            "Epoch 20/30\n",
            "500/500 [==============================] - 4s 7ms/step - loss: 0.1838 - accuracy: 0.9297 - val_loss: 0.3141 - val_accuracy: 0.8950\n",
            "Epoch 21/30\n",
            "500/500 [==============================] - 3s 7ms/step - loss: 0.1783 - accuracy: 0.9307 - val_loss: 0.3203 - val_accuracy: 0.9000\n",
            "Epoch 22/30\n",
            "500/500 [==============================] - 3s 7ms/step - loss: 0.1753 - accuracy: 0.9320 - val_loss: 0.2789 - val_accuracy: 0.9050\n",
            "Epoch 23/30\n",
            "500/500 [==============================] - 3s 7ms/step - loss: 0.1657 - accuracy: 0.9354 - val_loss: 0.3138 - val_accuracy: 0.9150\n",
            "Epoch 24/30\n",
            "500/500 [==============================] - 2s 5ms/step - loss: 0.1686 - accuracy: 0.9344 - val_loss: 0.2971 - val_accuracy: 0.9100\n",
            "Epoch 25/30\n",
            "500/500 [==============================] - 4s 7ms/step - loss: 0.1609 - accuracy: 0.9393 - val_loss: 0.2677 - val_accuracy: 0.9200\n",
            "Epoch 26/30\n",
            "500/500 [==============================] - 4s 8ms/step - loss: 0.1588 - accuracy: 0.9396 - val_loss: 0.3555 - val_accuracy: 0.8850\n",
            "Epoch 27/30\n",
            "500/500 [==============================] - 4s 8ms/step - loss: 0.1521 - accuracy: 0.9415 - val_loss: 0.3325 - val_accuracy: 0.8850\n",
            "Epoch 28/30\n",
            "500/500 [==============================] - 4s 7ms/step - loss: 0.1473 - accuracy: 0.9413 - val_loss: 0.3058 - val_accuracy: 0.9000\n",
            "Epoch 29/30\n",
            "500/500 [==============================] - 3s 7ms/step - loss: 0.1429 - accuracy: 0.9473 - val_loss: 0.3343 - val_accuracy: 0.8900\n",
            "Epoch 30/30\n",
            "500/500 [==============================] - 2s 5ms/step - loss: 0.1463 - accuracy: 0.9434 - val_loss: 0.3226 - val_accuracy: 0.9100\n"
          ],
          "name": "stdout"
        },
        {
          "output_type": "execute_result",
          "data": {
            "text/plain": [
              "<tensorflow.python.keras.callbacks.History at 0x7f89b85e1978>"
            ]
          },
          "metadata": {
            "tags": []
          },
          "execution_count": 35
        }
      ]
    },
    {
      "metadata": {
        "id": "818Wv50cPQzh",
        "colab_type": "code",
        "colab": {
          "base_uri": "https://localhost:8080/",
          "height": 1042
        },
        "outputId": "7b652f37-6c71-4a10-de50-acacba980d92"
      },
      "cell_type": "code",
      "source": [
        "model.fit(train_ds, epochs=30)"
      ],
      "execution_count": 41,
      "outputs": [
        {
          "output_type": "stream",
          "text": [
            "Epoch 1/30\n",
            "600/600 [==============================] - 4s 6ms/step - loss: 0.1108 - accuracy: 0.9578\n",
            "Epoch 2/30\n",
            "600/600 [==============================] - 3s 6ms/step - loss: 0.1068 - accuracy: 0.9607\n",
            "Epoch 3/30\n",
            "600/600 [==============================] - 4s 6ms/step - loss: 0.1074 - accuracy: 0.9599\n",
            "Epoch 4/30\n",
            "600/600 [==============================] - 3s 6ms/step - loss: 0.1042 - accuracy: 0.9608\n",
            "Epoch 5/30\n",
            "600/600 [==============================] - 4s 6ms/step - loss: 0.0994 - accuracy: 0.9625\n",
            "Epoch 6/30\n",
            "600/600 [==============================] - 4s 6ms/step - loss: 0.0936 - accuracy: 0.9654\n",
            "Epoch 7/30\n",
            "600/600 [==============================] - 3s 5ms/step - loss: 0.0949 - accuracy: 0.9637\n",
            "Epoch 8/30\n",
            "600/600 [==============================] - 3s 5ms/step - loss: 0.0921 - accuracy: 0.9652\n",
            "Epoch 9/30\n",
            "600/600 [==============================] - 3s 6ms/step - loss: 0.0890 - accuracy: 0.9664\n",
            "Epoch 10/30\n",
            "600/600 [==============================] - 3s 6ms/step - loss: 0.0902 - accuracy: 0.9651\n",
            "Epoch 11/30\n",
            "600/600 [==============================] - 3s 5ms/step - loss: 0.0873 - accuracy: 0.9664\n",
            "Epoch 12/30\n",
            "600/600 [==============================] - 4s 7ms/step - loss: 0.0851 - accuracy: 0.9676\n",
            "Epoch 13/30\n",
            "600/600 [==============================] - 4s 7ms/step - loss: 0.0811 - accuracy: 0.9688\n",
            "Epoch 14/30\n",
            "600/600 [==============================] - 4s 6ms/step - loss: 0.0777 - accuracy: 0.9704\n",
            "Epoch 15/30\n",
            "600/600 [==============================] - 3s 5ms/step - loss: 0.0818 - accuracy: 0.9690\n",
            "Epoch 16/30\n",
            "600/600 [==============================] - 4s 6ms/step - loss: 0.0791 - accuracy: 0.9696\n",
            "Epoch 17/30\n",
            "600/600 [==============================] - 3s 5ms/step - loss: 0.0756 - accuracy: 0.9704\n",
            "Epoch 18/30\n",
            "600/600 [==============================] - 4s 6ms/step - loss: 0.0742 - accuracy: 0.9718\n",
            "Epoch 19/30\n",
            "600/600 [==============================] - 3s 6ms/step - loss: 0.0724 - accuracy: 0.9723\n",
            "Epoch 20/30\n",
            "600/600 [==============================] - 3s 6ms/step - loss: 0.0711 - accuracy: 0.9728\n",
            "Epoch 21/30\n",
            "600/600 [==============================] - 4s 6ms/step - loss: 0.0783 - accuracy: 0.9699\n",
            "Epoch 22/30\n",
            "600/600 [==============================] - 3s 6ms/step - loss: 0.0740 - accuracy: 0.9716\n",
            "Epoch 23/30\n",
            "600/600 [==============================] - 4s 6ms/step - loss: 0.0730 - accuracy: 0.9720\n",
            "Epoch 24/30\n",
            "600/600 [==============================] - 3s 6ms/step - loss: 0.0685 - accuracy: 0.9735\n",
            "Epoch 25/30\n",
            "600/600 [==============================] - 4s 6ms/step - loss: 0.0679 - accuracy: 0.9745\n",
            "Epoch 26/30\n",
            "600/600 [==============================] - 3s 6ms/step - loss: 0.0685 - accuracy: 0.9732\n",
            "Epoch 27/30\n",
            "600/600 [==============================] - 3s 6ms/step - loss: 0.0723 - accuracy: 0.9721\n",
            "Epoch 28/30\n",
            "600/600 [==============================] - 3s 6ms/step - loss: 0.0629 - accuracy: 0.9758\n",
            "Epoch 29/30\n",
            "600/600 [==============================] - 3s 6ms/step - loss: 0.0592 - accuracy: 0.9776\n",
            "Epoch 30/30\n",
            "600/600 [==============================] - 3s 6ms/step - loss: 0.0621 - accuracy: 0.9765\n"
          ],
          "name": "stdout"
        },
        {
          "output_type": "execute_result",
          "data": {
            "text/plain": [
              "<tensorflow.python.keras.callbacks.History at 0x7f89b18c2438>"
            ]
          },
          "metadata": {
            "tags": []
          },
          "execution_count": 41
        }
      ]
    },
    {
      "metadata": {
        "id": "yZowBKQ2Pm7v",
        "colab_type": "text"
      },
      "cell_type": "markdown",
      "source": [
        "As the model trains, the loss and accuracy metrics are displayed. This model reaches an accuracy of about 0.95 (or 95%) on the training data."
      ]
    },
    {
      "metadata": {
        "id": "Caux6W-IPu0r",
        "colab_type": "text"
      },
      "cell_type": "markdown",
      "source": [
        "## Evaluate accuracy\n",
        "Next, compare how the model performs on the test dataset:"
      ]
    },
    {
      "metadata": {
        "id": "dds7GxjpPypc",
        "colab_type": "code",
        "colab": {
          "base_uri": "https://localhost:8080/",
          "height": 67
        },
        "outputId": "22afca1b-0b32-4871-8075-073a276f9c2b"
      },
      "cell_type": "code",
      "source": [
        "test_loss, test_acc = model.evaluate(val_ds)\n",
        "\n",
        "print('\\nTest accuracy:', test_acc)"
      ],
      "execution_count": 42,
      "outputs": [
        {
          "output_type": "stream",
          "text": [
            "100/100 [==============================] - 1s 7ms/step - loss: 0.7635 - accuracy: 0.8817\n",
            "\n",
            "Test accuracy: 0.8817\n"
          ],
          "name": "stdout"
        }
      ]
    },
    {
      "metadata": {
        "id": "2nzpHnjUQRiQ",
        "colab_type": "text"
      },
      "cell_type": "markdown",
      "source": [
        "It turns out that the accuracy on the test dataset is a little less than the accuracy on the training dataset. This gap between training accuracy and test accuracy represents overfitting. Overfitting is when a machine learning model performs worse on new, previously unseen inputs than on the training data."
      ]
    },
    {
      "metadata": {
        "id": "m5UENeszQbww",
        "colab_type": "text"
      },
      "cell_type": "markdown",
      "source": [
        "## Make predictions\n",
        "With the model trained, we can use it to make predictions about some images."
      ]
    },
    {
      "metadata": {
        "id": "dmXGbrjGQhRz",
        "colab_type": "code",
        "colab": {
          "base_uri": "https://localhost:8080/",
          "height": 34
        },
        "outputId": "62f769c1-08e1-4a2d-8a4a-faa40c32f7f8"
      },
      "cell_type": "code",
      "source": [
        "predictions = model.predict(val_ds)\n",
        "predictions[0]\n",
        "np.argmax(predictions[0])"
      ],
      "execution_count": 45,
      "outputs": [
        {
          "output_type": "execute_result",
          "data": {
            "text/plain": [
              "6"
            ]
          },
          "metadata": {
            "tags": []
          },
          "execution_count": 45
        }
      ]
    }
  ]
}